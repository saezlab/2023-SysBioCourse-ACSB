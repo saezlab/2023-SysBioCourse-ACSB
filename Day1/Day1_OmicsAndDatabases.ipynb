{
  "nbformat": 4,
  "nbformat_minor": 0,
  "metadata": {
    "colab": {
      "name": "2022_06_29_Day_1_databases.ipynb",
      "provenance": []
    },
    "kernelspec": {
      "name": "ir",
      "display_name": "R"
    },
    "language_info": {
      "name": "R"
    }
  },
  "cells": [
    {
      "cell_type": "markdown",
      "source": [
        "# Introduction\n",
        "\n",
        "This is the first of a series of practical sessions in which we will learn about databases, omics data, prior knolwedge, data visualization, functional analysis and logic network modeling. Here you can find the schedule plus the contact details of the trainer for each day.\n",
        "\n",
        "1. June 29th. Intro to omics and prior knowledge databases ( martin.garrido@uni-heidelberg.de / mgrcprof@gmail.com )\n",
        "2. June 30th. Data visualization and exploratory data analysis ( roramirezf@uni-heidelberg.de )\n",
        "3. July 1st. Hypothesis testing ( roramirezf@uni-heidelberg.de )\n",
        "4. July 4th. Functional omics + small network exercise, not running CARNIVAL ( pau.badia@uni-heidelberg.de )\n",
        "5. July 5th. Logic network modeling ( jovan.tanevski@uni-heidelberg.de )\n",
        "\n",
        "More information about our group can be found at https://saezlab.org/ and we are always welcoming interns!\n",
        "\n",
        "# Working tool: Jupyter Notebooks in Google Colab\n",
        "\n",
        "We will use Jupyter Notebooks running on the Google Colab platform. Jupyter Notebooks can be used to write text using the [Markdown format](https://www.markdownguide.org/) and to execute R / Python code. \n",
        "\n",
        "To work with today's notebook, please make a copy of this notebook in your Google Drive by selecting:\n",
        "\n",
        "* File > Save a copy in Drive\n",
        "\n",
        "The programming language choice is up to you. This notebook is setup to run using R, but if you prefer to use python, you can change the runtime by selecting:\n",
        "\n",
        "* Runtime > Change tuntime type > Runtime type > Python3\n",
        "\n",
        "**Once the runtime is changed to Python3, it can not be changed back to R, so please be careful**"
      ],
      "metadata": {
        "id": "NmyrPCBwSP28"
      }
    },
    {
      "cell_type": "markdown",
      "source": [
        "# Day 1: Sources of omics data and prior knowledge\n",
        "\n",
        "Today we will interact with databases of omics data and prior knowledge. First, we will play around with their content using the web services that most of them offer, and later we will learn how to access and interact with their content programmatically.\n",
        "\n",
        "## Session organization and schedule\n",
        "\n",
        "### Organization\n",
        "\n",
        "1. Make groups of 2/3 students\n",
        "2. Each group will be working independently on a given set of tasks \n",
        "3. By the end of the session (15:45), each group will make a short presentation (15 minutes) about their results and findings. This is not for evaluation purposes, so do not feel the pressure of making a \"perfect\" presentation. Rather, focus on documenting your solutions, and try to what aspects of the tasks you found more interesting or challenging. \n",
        "\n",
        "### Schedule\n",
        "\n",
        "* 13:00 - 13:15 -> Introduction, setup and troubleshooting\n",
        "* 13:15 - 13:45 -> Task 1: Omics data\n",
        "* 13:45 - 14:30 -> Task 2: Retrieving prior knowledge for a single protein\n",
        "* 14:30 - 14:45 -> Break\n",
        "* 14:45 - 15:30 -> Task 3: Retrieving interactions\n",
        "* 15:30 - 15:45 -> Wrap-up of results and preparation of presentations. Send presentations to martin.garrido@uni-heidelberg.de\n",
        "* 15:45 - 16:30 -> Presentations\n",
        "\n",
        "# IMPORTANT: Don't be shy and ask questions. We are all learning."
      ],
      "metadata": {
        "id": "RU2yvMu7SwpM"
      }
    },
    {
      "cell_type": "code",
      "source": [
        "# if using R, run before starting the session\n",
        "if(!require(BiocManager)) install.packages(\"BiocManager\")\n",
        "BiocManager::install(\"OmnipathR\", update = FALSE)"
      ],
      "metadata": {
        "id": "z9xC2dDQ8n7p"
      },
      "execution_count": null,
      "outputs": []
    },
    {
      "cell_type": "code",
      "source": [
        "# if using Python, run before starting the session\n",
        "! pip install omnipath"
      ],
      "metadata": {
        "id": "Thxw-VjY8ofw"
      },
      "execution_count": null,
      "outputs": []
    },
    {
      "cell_type": "markdown",
      "source": [
        "# Task 1: Omics data\n",
        "\n",
        "1. What are omics data? (1 answer per group)\n",
        "2. Select a database from the \"pointers\" section. What type of omics data does it contain? (from now on, as many databases as group members)\n",
        "3. Choose a biological context that may interest you. For example, a disease such as breast cancer, a stimulus such as DNA damage, or a treatment such as TNF inhibition. Write it down.\n",
        "4. Search the database for records containing omics data for your biological context. Keywords such as \"breast cancer\" or \"radiation\" are useful for this task. How many records match your query? Select one record and write down its accession ID within the database of your choice.\n",
        "5. Describe the dataset:\n",
        "  1. When was it published? Does it have an associated publication?\n",
        "  2. What specific omics data does this dataset contain?  \n",
        "  3. What specific experiments were performed?\n",
        "  4. How many samples does the dataset contain?\n",
        "  5. Try to download the data associated to the record. What format does it have? Is it raw or preprocessed?. Describe the data format.\n",
        "\n",
        "## Pointers\n",
        "- https://www.ebi.ac.uk/arrayexpress/\n",
        "- https://www.ncbi.nlm.nih.gov/geo/\n",
        "- https://www.ebi.ac.uk/pride/\n",
        "- https://www.ebi.ac.uk/metabolights/\n",
        "- https://www.omicsdi.org/\n",
        "\n",
        "## Context-specific pointers\n",
        "- https://proteomic.datacommons.cancer.gov/pdc/\n",
        "- https://gdc.cancer.gov/\n",
        "- https://gtexportal.org/home/"
      ],
      "metadata": {
        "id": "WfNPNmDlSw0c"
      }
    },
    {
      "cell_type": "markdown",
      "source": [
        "# <font color='green'>Task 1 solution (only Web access)</font>\n",
        "\n",
        "\n"
      ],
      "metadata": {
        "id": "KuTNe-eyTVoA"
      }
    },
    {
      "cell_type": "markdown",
      "source": [
        "# Task 2: Retrieving prior knowledge for a single protein\n",
        "\n",
        "## Web access\n",
        "\n",
        "1. Choose a **human protein** that interests you. Write its name down.\n",
        "2. Select one database from the \"pointers\" section. Look for your protein. Can you find a record associated with it? \n",
        "3. What ID does it have in this database? Does it have the same name that you wrote down?\n",
        "4. Retrieve some information about your protein:\n",
        "  1. General description\n",
        "  2. Alternative names\n",
        "  3. Number of alternative isoforms\n",
        "  4. Protein sequence of the alternative isoforms\n",
        "  5. Subcellular location\n",
        "\n",
        "## Programmatic access\n",
        "\n",
        "1. Write a short function in R / Python to retrieve the protein sequence of your protein using as input oen of its IDs (hint: [UniProt provides easy programmatic access to its records](https://www.uniprot.org/help/api_retrieve_entries).\n",
        "2. Using your function, retrieve the sequence of the following proteins: P04637, P40763, Q92630, P00533, Q9BXS6\n",
        "\n",
        "## Pointers\n",
        "\n",
        "- https://www.uniprot.org/\n",
        "- https://www.ncbi.nlm.nih.gov/gene/\n",
        "- https://www.ensembl.org/index.html\n",
        "- https://www.proteinatlas.org/"
      ],
      "metadata": {
        "id": "VFzQ0Wx4Sw56"
      }
    },
    {
      "cell_type": "markdown",
      "source": [
        "# <font color='green'>Task 2 solution (Web access)</font>"
      ],
      "metadata": {
        "id": "Y-khv505YyBl"
      }
    },
    {
      "cell_type": "code",
      "source": [
        "# Task 2 solution (Programmatic access)"
      ],
      "metadata": {
        "id": "b-HeRcdzYrtv"
      },
      "execution_count": null,
      "outputs": []
    },
    {
      "cell_type": "markdown",
      "source": [
        "# Task 3: Retrieving interactions\n",
        "\n",
        "What type of information can we represent with interactions? Intro to interaction databases and to OmniPath (~10 mins)\n",
        "\n",
        "## Web access\n",
        "\n",
        "1. Select one database from the \"pointers\" section. What type of interactions does it contain?\n",
        "2. Using the protein that you selected in Task 2, retrieve its interactors from the database that you chose.\n",
        "3. What type of evidence is used to give support to the interactions that you retrieved? Are there interactions with stronger supporting evidence than others?\n",
        "4. Choose another protein, preferably less studied than the one that you chose before. Repeat the steps 1, 2, and 3. Does it have more or less interactors than your previous choice? Why does this happen?\n",
        "\n",
        "## Programmatic access\n",
        "\n",
        "1. Using OmniPath (see OmniPath pointers), retrieve all the interactions where at least one of the previous proteins is involved (list: P04637, P40763, Q92630, P00533, Q9BXS6)\n",
        "\n",
        "## Pointers\n",
        "\n",
        "- https://reactome.org/\n",
        "- https://string-db.org/\n",
        "- http://stitch.embl.de/\n",
        "- https://www.grnpedia.org/trrust/\n",
        "- https://thebiogrid.org/\n",
        "- https://www.ebi.ac.uk/intact/home\n",
        "- https://www.wikipathways.org/index.php/WikiPathways\n",
        "\n",
        "## OmniPath pointers\n",
        "\n",
        "- https://omnipathdb.org/\n",
        "- https://github.com/saezlab/OmnipathR\n",
        "- https://github.com/saezlab/omnipath"
      ],
      "metadata": {
        "id": "I_FIh5_eTG8C"
      }
    },
    {
      "cell_type": "markdown",
      "source": [
        "# <font color='green'>Task 3 solution (Web access)</font>"
      ],
      "metadata": {
        "id": "lKE0VmKdZIsQ"
      }
    },
    {
      "cell_type": "code",
      "source": [
        "# Task 3 solution (Programmatic access)"
      ],
      "metadata": {
        "id": "6uKC2XdjZKxP"
      },
      "execution_count": null,
      "outputs": []
    },
    {
      "cell_type": "markdown",
      "source": [
        "# Before tomorrow's session, please read the following article:\n",
        "# https://www.ahajournals.org/doi/10.1161/JAHA.120.019667"
      ],
      "metadata": {
        "id": "S7OLgi4ung2y"
      }
    }
  ]
}