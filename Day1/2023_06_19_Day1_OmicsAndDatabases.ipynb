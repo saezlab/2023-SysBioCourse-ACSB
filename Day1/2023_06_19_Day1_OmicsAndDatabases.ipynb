{
  "cells": [
    {
      "attachments": {},
      "cell_type": "markdown",
      "metadata": {
        "id": "RU2yvMu7SwpM"
      },
      "source": [
        "--------\n",
        "# Day 1: Sources of omics data and prior knowledge\n",
        "\n",
        "Today we will interact with omics data and prior knowledge. First, we will play around with their content using the web services that most of them offer, and later we will learn how to access and interact with their content programmatically.\n",
        "\n",
        "## Session organization and schedule\n",
        "\n",
        "- Introduction (30 mins)\n",
        "- Task 1: Omics data (1 hour)\n",
        "- Break (15 mins)\n",
        "- Task 2: Retrieving prior knowledge for a single protein (45 mins)\n",
        "- Task 3: Retrieving interactions (45 mins)\n",
        "- Q&A and wrap-up (15 mins)\n",
        "\n",
        "### Organization\n",
        "\n",
        "Each student will be working in a given set of tasks. By the end of each task session, we will have a short Q&A session and a break.\n",
        "\n",
        "### Schedule\n",
        "\n",
        "* 13:00 - 13:15 -> Introduction, setup and troubleshooting\n",
        "* 13:15 - 13:45 -> Task 1: Omics data\n",
        "* 13:45 - 14:30 -> Task 2: Retrieving prior knowledge for a single protein\n",
        "* 14:30 - 14:45 -> Break\n",
        "* 14:45 - 15:30 -> Task 3: Retrieving interactions\n",
        "* 15:30 - 15:45 -> Wrap-up of results and preparation of presentations. Send presentations to martin.garrido@uni-heidelberg.de\n",
        "* 15:45 - 16:30 -> Presentations"
      ]
    },
    {
      "cell_type": "code",
      "execution_count": null,
      "metadata": {
        "id": "z9xC2dDQ8n7p",
        "vscode": {
          "languageId": "r"
        }
      },
      "outputs": [],
      "source": [
        "# run this before Task 3\n",
        "if(!require(BiocManager)) install.packages(\"BiocManager\")\n",
        "BiocManager::install(\"OmnipathR\", update = FALSE)"
      ]
    },
    {
      "attachments": {},
      "cell_type": "markdown",
      "metadata": {},
      "source": [
        "------------"
      ]
    },
    {
      "attachments": {},
      "cell_type": "markdown",
      "metadata": {
        "id": "WfNPNmDlSw0c"
      },
      "source": [
        "# Task 1: Retrieving omics data from public databases and repositories (45 mins)\n",
        "\n",
        "1. Select a database from the \"pointers\" section below. What type of omics data does it contain?\n",
        "2. Choose a biological context that may interest you. For example, a disease such as breast cancer, a biological process such as DNA damage, or a treatment such as TNF inhibition. Write it down.\n",
        "3. Search the database for records containing omics data for your biological context. Keywords such as \"breast cancer\" or \"radiation\" could be useful for this task. How many records match your query? Select one record and write down its accession ID within the database of your choice.\n",
        "4. Describe the dataset:\n",
        "  1. When was it published? Does it have an associated publication?\n",
        "  2. What specific omics data does this dataset contain?  \n",
        "  3. What specific experiments were performed?\n",
        "  4. How many samples does the dataset contain?\n",
        "  5. Try to download the data associated to the record. What format does it have? Is it raw or preprocessed? Describe the data format.\n",
        "\n",
        "## Pointers\n",
        "- https://www.ebi.ac.uk/arrayexpress/\n",
        "- https://www.ncbi.nlm.nih.gov/geo/\n",
        "- https://www.ebi.ac.uk/pride/\n",
        "- https://www.ebi.ac.uk/metabolights/\n",
        "- https://www.omicsdi.org/\n",
        "\n",
        "## Context-specific pointers\n",
        "- https://proteomic.datacommons.cancer.gov/pdc/\n",
        "- https://gdc.cancer.gov/\n",
        "- https://gtexportal.org/home/\n",
        "\n",
        "## Preprocessed data repositories (only for transcriptomics)\n",
        "- https://ncbiinsights.ncbi.nlm.nih.gov/2023/04/19/human-rna-seq-geo/  \n",
        "- https://maayanlab.cloud/biojupies/\n",
        "- https://www.refine.bio/\n",
        "- https://rna.recount.bio/ \n",
        "\n",
        "# Q&A and discussion on the main challenges of public omics data accession and reuse (15 mins)"
      ]
    },
    {
      "attachments": {},
      "cell_type": "markdown",
      "metadata": {},
      "source": [
        "--------------------"
      ]
    },
    {
      "attachments": {},
      "cell_type": "markdown",
      "metadata": {
        "id": "VFzQ0Wx4Sw56"
      },
      "source": [
        "# Task 2: Retrieving knowledge for a single protein\n",
        "\n",
        "## Web access\n",
        "\n",
        "1. Choose a **human protein** that interests you. Write its name down.\n",
        "2. Select one database from the \"pointers\" section. Look for your protein. Can you find a record associated with it? \n",
        "3. What ID does it have in this database? Does it have the same name that you wrote down?\n",
        "4. Retrieve some information about your protein:\n",
        "  1. General description\n",
        "  2. Alternative names\n",
        "  3. Number of alternative isoforms\n",
        "  4. Protein sequence of the alternative isoforms\n",
        "  5. Subcellular location\n",
        "\n",
        "## Programmatic access\n",
        "\n",
        "1. Write a short function in R / Python to retrieve the protein sequence of your protein using as input oen of its IDs (hint: [UniProt provides easy programmatic access to its records](https://www.uniprot.org/help/api_retrieve_entries).\n",
        "2. Using your function, retrieve the sequence of the following proteins: P04637, P40763, Q92630, P00533, Q9BXS6\n",
        "\n",
        "## Pointers\n",
        "\n",
        "- https://www.uniprot.org/\n",
        "- https://www.ncbi.nlm.nih.gov/gene/\n",
        "- https://www.ensembl.org/index.html\n",
        "- https://www.proteinatlas.org/\n",
        "\n",
        "# Q&A and discussion on the benefits of databases with APIs (10 mins)"
      ]
    },
    {
      "attachments": {},
      "cell_type": "markdown",
      "metadata": {},
      "source": [
        "--------------------"
      ]
    },
    {
      "attachments": {},
      "cell_type": "markdown",
      "metadata": {
        "id": "I_FIh5_eTG8C"
      },
      "source": [
        "# Task 3: Retrieving interactions between biomolecules\n",
        "\n",
        "## Web access\n",
        "\n",
        "1. Select one database from the \"pointers\" section. What type of interactions does it contain?\n",
        "2. Using the protein that you selected in Task 2, retrieve its interactors from the database that you chose.\n",
        "3. What type of evidence is used to give support to the interactions that you retrieved? Are there interactions with stronger supporting evidence than others?\n",
        "4. Choose another protein, preferably less studied than the one that you chose before. Repeat the steps 1, 2, and 3. Does it have more or less interactors than your previous choice? Why does this happen?\n",
        "\n",
        "## Programmatic access\n",
        "\n",
        "1. Using OmniPath (see OmniPath pointers), retrieve all the interactions where at least one of the previous proteins is involved (list: P04637, P40763, Q92630, P00533, Q9BXS6)\n",
        "\n",
        "## Pointers\n",
        "\n",
        "- https://reactome.org/\n",
        "- https://string-db.org/\n",
        "- http://stitch.embl.de/\n",
        "- https://www.grnpedia.org/trrust/\n",
        "- https://thebiogrid.org/\n",
        "- https://www.ebi.ac.uk/intact/home\n",
        "- https://www.wikipathways.org/index.php/WikiPathways\n",
        "\n",
        "## OmniPath pointers\n",
        "\n",
        "- https://omnipathdb.org/\n",
        "- https://github.com/saezlab/OmnipathR\n",
        "- https://github.com/saezlab/omnipath\n",
        "\n",
        "# Q&A and brief discussion on the limitations and biases in prior knowledge (10 mins)"
      ]
    },
    {
      "attachments": {},
      "cell_type": "markdown",
      "metadata": {},
      "source": [
        "--------------------"
      ]
    }
  ],
  "metadata": {
    "colab": {
      "name": "2022_06_29_Day_1_databases.ipynb",
      "provenance": []
    },
    "kernelspec": {
      "display_name": "R",
      "name": "ir"
    },
    "language_info": {
      "name": "R"
    }
  },
  "nbformat": 4,
  "nbformat_minor": 0
}
